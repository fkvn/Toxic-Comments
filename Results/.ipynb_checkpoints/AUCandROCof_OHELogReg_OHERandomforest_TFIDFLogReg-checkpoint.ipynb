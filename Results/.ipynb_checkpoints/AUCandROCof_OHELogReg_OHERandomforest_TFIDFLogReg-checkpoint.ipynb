{
 "cells": [
  {
   "cell_type": "markdown",
   "metadata": {},
   "source": [
    "# This file will calculate AUC and ROC of 3 methods: \n",
    "\n",
    "* ### OHE Logistic Regression\n",
    "* ### OHE Randomforest\n",
    "* ### TFIDF Logistic Regestion \n",
    "\n",
    "### with 153165 test samples "
   ]
  },
  {
   "cell_type": "code",
   "execution_count": 1,
   "metadata": {},
   "outputs": [],
   "source": [
    "import pandas as pd\n",
    "import numpy as np\n",
    "\n",
    "# Importing the \"pyplot\" package of \"matplotlib\" library of python to generate \n",
    "# graphs and plot curves:\n",
    "import matplotlib.pyplot as plt\n",
    "\n",
    "\n",
    "label_cols = ['toxic', 'severe_toxic', 'obscene', 'threat', 'insult', 'identity_hate']\n",
    "\n",
    "test_labels = pd.read_csv('test_labels.csv')\n",
    "test_labels[label_cols] = test_labels[label_cols].replace(-1, 1)\n"
   ]
  },
  {
   "cell_type": "code",
   "execution_count": 2,
   "metadata": {},
   "outputs": [
    {
     "ename": "IndentationError",
     "evalue": "expected an indented block (<ipython-input-2-635acc86cec2>, line 12)",
     "output_type": "error",
     "traceback": [
      "\u001b[0;36m  File \u001b[0;32m\"<ipython-input-2-635acc86cec2>\"\u001b[0;36m, line \u001b[0;32m12\u001b[0m\n\u001b[0;31m    plt.plot(fpr, tpr, color='red', lw=2,\u001b[0m\n\u001b[0m      ^\u001b[0m\n\u001b[0;31mIndentationError\u001b[0m\u001b[0;31m:\u001b[0m expected an indented block\n"
     ]
    }
   ],
   "source": [
    "# def plot(curves):\n",
    "    \n",
    "#     # The following line will tell Jupyter Notebook to keep the figures inside the explorer page \n",
    "#     %matplotlib inline\n",
    "\n",
    "#     plt.figure()\n",
    "    \n",
    "#     for i in range(curves):\n",
    "        \n",
    "    \n",
    "#     # Roc Curve1:\n",
    "#     plt.plot(fpr, tpr, color='red', lw=2, \n",
    "#              label='ROC Curve (area = %0.2f)' % AUC)\n",
    "\n",
    "#     # Roc Curve2:\n",
    "#     plt.plot(fpr2, tpr2, color='green', lw=2, \n",
    "#              label='ROC Curve (area = %0.2f)' % AUC2)\n",
    "\n",
    "#     # Random Guess line:\n",
    "#     plt.plot([0, 1], [0, 1], color='blue', lw=1, linestyle='--')\n",
    "\n",
    "#     # Defining The Range of X-Axis and Y-Axis:\n",
    "#     plt.xlim([-0.005, 1.005])\n",
    "#     plt.ylim([0.0, 1.01])\n",
    "\n",
    "#     # Labels, Title, Legend:\n",
    "#     plt.xlabel('False Positive Rate')\n",
    "#     plt.ylabel('True Positive Rate')\n",
    "#     plt.title('Receiver operating characteristic')\n",
    "#     plt.legend(loc=\"lower right\")\n",
    "\n",
    "#     plt.show()"
   ]
  },
  {
   "cell_type": "code",
   "execution_count": null,
   "metadata": {},
   "outputs": [],
   "source": [
    "from sklearn.linear_model import LogisticRegression\n",
    "from sklearn import metrics\n",
    "\n",
    "OHELogReg_Labels = pd.read_csv('OHE_LogReg_submission.csv')\n",
    "OHERandomforest_Labels = pd.read_csv('OHE_Randomforest_submission.csv')\n",
    "TFIDFLogReg_Labels = pd.read_csv('TFIDF_LogReg_submission.csv')\n",
    "\n",
    "\n",
    "for col in label_cols:\n",
    "    print(\"\\n\", col, \": \")\n",
    "    y_test = test_labels[col]\n",
    "    \n",
    "    # y_prediction    \n",
    "    y_pred_OHELogReg = OHELogReg_Labels[col]\n",
    "    y_pred_OHERandomforest = OHERandomforest_Labels[col]\n",
    "    y_pred_TFIDFLogReg = TFIDFLogReg_Labels[col]\n",
    "    \n",
    "    # OHELogReg AUC    \n",
    "    fprOHELogReg, tprOHELogReg, thresholdsOHELogReg = metrics.roc_curve(y_test, y_pred_OHELogReg, pos_label=1)\n",
    "    AUCOHELogReg = metrics.auc(fprOHELogReg, tprOHELogReg)\n",
    "    print(\"OHELogReg - AUC: \", AUCOHELogReg)\n",
    "    \n",
    "    # OHERandomforest AUC\n",
    "    fprOHERandomforest, tprOHERandomforest, thresholdsOHERandomforest = metrics.roc_curve(y_test, y_pred_OHERandomforest, pos_label=1)\n",
    "    AUCOHERandomforest = metrics.auc(fprOHERandomforest, tprOHERandomforest)\n",
    "    print(\"OHERandomforest - AUC: \", AUCOHERandomforest)\n",
    "    \n",
    "    # OHELogRegTFIDFLogRegAUC\n",
    "    fprTFIDFLogReg, tprTFIDFLogReg, thresholdsTFIDFLogReg = metrics.roc_curve(y_test, y_pred_TFIDFLogReg, pos_label=1)\n",
    "    AUCTFIDFLogReg = metrics.auc(fprTFIDFLogReg, tprTFIDFLogReg)\n",
    "    print(\"TFIDFLogReg - AUC: \", AUCTFIDFLogReg)\n",
    "    \n",
    "    # Drawing plot for each class (label) for all 3 methods     \n",
    "    %matplotlib inline\n",
    "    plt.figure()\n",
    "    \n",
    "    plt.plot(fprOHELogReg, tprOHELogReg, color='red', lw=2, \n",
    "             label='ROC Curve OHELogReg (area = %0.2f)' % AUCOHELogReg)\n",
    "    plt.plot(fprOHERandomforest, tprOHERandomforest, color='green', lw=2, \n",
    "             label='ROC Curve OHERandomforest (area = %0.2f)' % AUCOHERandomforest)\n",
    "    plt.plot(fprTFIDFLogReg, tprTFIDFLogReg, color='yellow', lw=2, \n",
    "             label='ROC Curve TFIDFLogReg (area = %0.2f)' % AUCTFIDFLogReg)\n",
    "    \n",
    "    # Random Guess line:\n",
    "    plt.plot([0, 1], [0, 1], color='blue', lw=1, linestyle='--')\n",
    "\n",
    "    # Defining The Range of X-Axis and Y-Axis:\n",
    "    plt.xlim([-0.005, 1.005])\n",
    "    plt.ylim([0.0, 1.01])\n",
    "\n",
    "    # Labels, Title, Legend:\n",
    "    plt.xlabel('False Positive Rate')\n",
    "    plt.ylabel('True Positive Rate')\n",
    "    plt.title('Receiver operating characteristic')\n",
    "    plt.legend(loc=\"lower right\")\n",
    "\n",
    "    plt.show()\n",
    "    \n",
    "\n"
   ]
  },
  {
   "cell_type": "code",
   "execution_count": null,
   "metadata": {},
   "outputs": [],
   "source": []
  }
 ],
 "metadata": {
  "kernelspec": {
   "display_name": "Python 3",
   "language": "python",
   "name": "python3"
  },
  "language_info": {
   "codemirror_mode": {
    "name": "ipython",
    "version": 3
   },
   "file_extension": ".py",
   "mimetype": "text/x-python",
   "name": "python",
   "nbconvert_exporter": "python",
   "pygments_lexer": "ipython3",
   "version": "3.7.3"
  }
 },
 "nbformat": 4,
 "nbformat_minor": 2
}
